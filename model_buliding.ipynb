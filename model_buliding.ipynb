{
 "cells": [
  {
   "cell_type": "code",
   "execution_count": 6,
   "metadata": {},
   "outputs": [],
   "source": [
    "import pandas as pd\n",
    "import matplotlib.pyplot as plt\n",
    "import numpy as np"
   ]
  },
  {
   "cell_type": "code",
   "execution_count": 7,
   "metadata": {},
   "outputs": [],
   "source": [
    "df = pd.read_csv('eda_data.csv')"
   ]
  },
  {
   "cell_type": "code",
   "execution_count": 8,
   "metadata": {},
   "outputs": [],
   "source": [
    "df_model = df[['avg_salary','Rating','Size','Type of ownership','Industry','Sector','Revenue','num_comp','hourly','employer_provided',\n",
    "             'job_state','same_state','age','python_yn','spark','aws','excel','job_simp','seniority','desc_len']]"
   ]
  },
  {
   "cell_type": "code",
   "execution_count": 9,
   "metadata": {},
   "outputs": [],
   "source": [
    "df_dum = pd.get_dummies(df_model)"
   ]
  },
  {
   "cell_type": "code",
   "execution_count": 10,
   "metadata": {},
   "outputs": [],
   "source": [
    "from sklearn.model_selection import train_test_split"
   ]
  },
  {
   "cell_type": "code",
   "execution_count": 11,
   "metadata": {},
   "outputs": [],
   "source": [
    "X = df_dum.drop('avg_salary', axis =1)\n",
    "y = df_dum.avg_salary.values"
   ]
  },
  {
   "cell_type": "code",
   "execution_count": 12,
   "metadata": {},
   "outputs": [],
   "source": [
    "X_train, X_test, y_train, y_test = train_test_split(X, y, test_size=0.2, random_state=42)"
   ]
  },
  {
   "cell_type": "code",
   "execution_count": 13,
   "metadata": {},
   "outputs": [],
   "source": [
    "import statsmodels.api as sm"
   ]
  },
  {
   "cell_type": "code",
   "execution_count": 14,
   "metadata": {},
   "outputs": [
    {
     "data": {
      "text/html": [
       "<table class=\"simpletable\">\n",
       "<caption>OLS Regression Results</caption>\n",
       "<tr>\n",
       "  <th>Dep. Variable:</th>            <td>y</td>        <th>  R-squared:         </th> <td>   0.708</td>\n",
       "</tr>\n",
       "<tr>\n",
       "  <th>Model:</th>                   <td>OLS</td>       <th>  Adj. R-squared:    </th> <td>   0.638</td>\n",
       "</tr>\n",
       "<tr>\n",
       "  <th>Method:</th>             <td>Least Squares</td>  <th>  F-statistic:       </th> <td>   10.21</td>\n",
       "</tr>\n",
       "<tr>\n",
       "  <th>Date:</th>             <td>Tue, 07 Mar 2023</td> <th>  Prob (F-statistic):</th> <td>1.48e-94</td>\n",
       "</tr>\n",
       "<tr>\n",
       "  <th>Time:</th>                 <td>11:09:21</td>     <th>  Log-Likelihood:    </th> <td> -3311.7</td>\n",
       "</tr>\n",
       "<tr>\n",
       "  <th>No. Observations:</th>      <td>   742</td>      <th>  AIC:               </th> <td>   6909.</td>\n",
       "</tr>\n",
       "<tr>\n",
       "  <th>Df Residuals:</th>          <td>   599</td>      <th>  BIC:               </th> <td>   7568.</td>\n",
       "</tr>\n",
       "<tr>\n",
       "  <th>Df Model:</th>              <td>   142</td>      <th>                     </th>     <td> </td>   \n",
       "</tr>\n",
       "<tr>\n",
       "  <th>Covariance Type:</th>      <td>nonrobust</td>    <th>                     </th>     <td> </td>   \n",
       "</tr>\n",
       "</table>\n",
       "<table class=\"simpletable\">\n",
       "<tr>\n",
       "                          <td></td>                             <th>coef</th>     <th>std err</th>      <th>t</th>      <th>P>|t|</th>  <th>[0.025</th>    <th>0.975]</th>  \n",
       "</tr>\n",
       "<tr>\n",
       "  <th>const</th>                                             <td>   43.6012</td> <td>    6.720</td> <td>    6.488</td> <td> 0.000</td> <td>   30.404</td> <td>   56.799</td>\n",
       "</tr>\n",
       "<tr>\n",
       "  <th>Rating</th>                                            <td>    3.6051</td> <td>    1.937</td> <td>    1.861</td> <td> 0.063</td> <td>   -0.200</td> <td>    7.410</td>\n",
       "</tr>\n",
       "<tr>\n",
       "  <th>num_comp</th>                                          <td>    2.2511</td> <td>    0.868</td> <td>    2.593</td> <td> 0.010</td> <td>    0.546</td> <td>    3.956</td>\n",
       "</tr>\n",
       "<tr>\n",
       "  <th>hourly</th>                                            <td>  -36.5821</td> <td>    9.173</td> <td>   -3.988</td> <td> 0.000</td> <td>  -54.597</td> <td>  -18.567</td>\n",
       "</tr>\n",
       "<tr>\n",
       "  <th>employer_provided</th>                                 <td>   31.3641</td> <td>   11.524</td> <td>    2.722</td> <td> 0.007</td> <td>    8.731</td> <td>   53.997</td>\n",
       "</tr>\n",
       "<tr>\n",
       "  <th>same_state</th>                                        <td>    2.4813</td> <td>    2.619</td> <td>    0.948</td> <td> 0.344</td> <td>   -2.661</td> <td>    7.624</td>\n",
       "</tr>\n",
       "<tr>\n",
       "  <th>age</th>                                               <td>    0.0348</td> <td>    0.030</td> <td>    1.160</td> <td> 0.246</td> <td>   -0.024</td> <td>    0.094</td>\n",
       "</tr>\n",
       "<tr>\n",
       "  <th>python_yn</th>                                         <td>    8.1363</td> <td>    2.523</td> <td>    3.224</td> <td> 0.001</td> <td>    3.180</td> <td>   13.092</td>\n",
       "</tr>\n",
       "<tr>\n",
       "  <th>spark</th>                                             <td>   -0.5715</td> <td>    2.921</td> <td>   -0.196</td> <td> 0.845</td> <td>   -6.307</td> <td>    5.164</td>\n",
       "</tr>\n",
       "<tr>\n",
       "  <th>aws</th>                                               <td>    1.1228</td> <td>    2.736</td> <td>    0.410</td> <td> 0.682</td> <td>   -4.250</td> <td>    6.496</td>\n",
       "</tr>\n",
       "<tr>\n",
       "  <th>excel</th>                                             <td>   -0.4020</td> <td>    2.268</td> <td>   -0.177</td> <td> 0.859</td> <td>   -4.855</td> <td>    4.051</td>\n",
       "</tr>\n",
       "<tr>\n",
       "  <th>desc_len</th>                                          <td>   -0.0001</td> <td>    0.001</td> <td>   -0.171</td> <td> 0.864</td> <td>   -0.002</td> <td>    0.001</td>\n",
       "</tr>\n",
       "<tr>\n",
       "  <th>Size_-1</th>                                           <td>   13.6196</td> <td>    8.629</td> <td>    1.578</td> <td> 0.115</td> <td>   -3.328</td> <td>   30.567</td>\n",
       "</tr>\n",
       "<tr>\n",
       "  <th>Size_1 to 50 employees</th>                            <td>    1.1087</td> <td>    6.501</td> <td>    0.171</td> <td> 0.865</td> <td>  -11.659</td> <td>   13.876</td>\n",
       "</tr>\n",
       "<tr>\n",
       "  <th>Size_10000+ employees</th>                             <td>   -2.9049</td> <td>    5.801</td> <td>   -0.501</td> <td> 0.617</td> <td>  -14.297</td> <td>    8.487</td>\n",
       "</tr>\n",
       "<tr>\n",
       "  <th>Size_1001 to 5000 employees</th>                       <td>    6.1218</td> <td>    3.880</td> <td>    1.578</td> <td> 0.115</td> <td>   -1.498</td> <td>   13.741</td>\n",
       "</tr>\n",
       "<tr>\n",
       "  <th>Size_201 to 500 employees</th>                         <td>    2.2418</td> <td>    3.873</td> <td>    0.579</td> <td> 0.563</td> <td>   -5.364</td> <td>    9.848</td>\n",
       "</tr>\n",
       "<tr>\n",
       "  <th>Size_5001 to 10000 employees</th>                      <td>   -3.8783</td> <td>    5.443</td> <td>   -0.713</td> <td> 0.476</td> <td>  -14.568</td> <td>    6.811</td>\n",
       "</tr>\n",
       "<tr>\n",
       "  <th>Size_501 to 1000 employees</th>                        <td>    2.1611</td> <td>    4.059</td> <td>    0.532</td> <td> 0.595</td> <td>   -5.811</td> <td>   10.133</td>\n",
       "</tr>\n",
       "<tr>\n",
       "  <th>Size_51 to 200 employees</th>                          <td>    4.1816</td> <td>    4.422</td> <td>    0.946</td> <td> 0.345</td> <td>   -4.502</td> <td>   12.865</td>\n",
       "</tr>\n",
       "<tr>\n",
       "  <th>Size_Unknown</th>                                      <td>   20.9498</td> <td>   13.993</td> <td>    1.497</td> <td> 0.135</td> <td>   -6.532</td> <td>   48.432</td>\n",
       "</tr>\n",
       "<tr>\n",
       "  <th>Type of ownership_-1</th>                              <td>   13.6196</td> <td>    8.629</td> <td>    1.578</td> <td> 0.115</td> <td>   -3.328</td> <td>   30.567</td>\n",
       "</tr>\n",
       "<tr>\n",
       "  <th>Type of ownership_College / University</th>            <td>    6.4736</td> <td>   17.737</td> <td>    0.365</td> <td> 0.715</td> <td>  -28.360</td> <td>   41.307</td>\n",
       "</tr>\n",
       "<tr>\n",
       "  <th>Type of ownership_Company - Private</th>               <td>    8.5803</td> <td>    5.239</td> <td>    1.638</td> <td> 0.102</td> <td>   -1.709</td> <td>   18.869</td>\n",
       "</tr>\n",
       "<tr>\n",
       "  <th>Type of ownership_Company - Public</th>                <td>   13.2791</td> <td>    5.699</td> <td>    2.330</td> <td> 0.020</td> <td>    2.086</td> <td>   24.472</td>\n",
       "</tr>\n",
       "<tr>\n",
       "  <th>Type of ownership_Government</th>                      <td>  -15.3416</td> <td>   15.290</td> <td>   -1.003</td> <td> 0.316</td> <td>  -45.370</td> <td>   14.687</td>\n",
       "</tr>\n",
       "<tr>\n",
       "  <th>Type of ownership_Hospital</th>                        <td>   -7.1449</td> <td>    9.965</td> <td>   -0.717</td> <td> 0.474</td> <td>  -26.715</td> <td>   12.425</td>\n",
       "</tr>\n",
       "<tr>\n",
       "  <th>Type of ownership_Nonprofit Organization</th>          <td>   -9.8015</td> <td>    6.711</td> <td>   -1.460</td> <td> 0.145</td> <td>  -22.982</td> <td>    3.379</td>\n",
       "</tr>\n",
       "<tr>\n",
       "  <th>Type of ownership_Other Organization</th>              <td>   -5.9874</td> <td>   14.343</td> <td>   -0.417</td> <td> 0.676</td> <td>  -34.155</td> <td>   22.181</td>\n",
       "</tr>\n",
       "<tr>\n",
       "  <th>Type of ownership_School / School District</th>        <td>   -5.9826</td> <td>   23.791</td> <td>   -0.251</td> <td> 0.802</td> <td>  -52.707</td> <td>   40.742</td>\n",
       "</tr>\n",
       "<tr>\n",
       "  <th>Type of ownership_Subsidiary or Business Segment</th>  <td>   12.7745</td> <td>    6.927</td> <td>    1.844</td> <td> 0.066</td> <td>   -0.829</td> <td>   26.378</td>\n",
       "</tr>\n",
       "<tr>\n",
       "  <th>Type of ownership_Unknown</th>                         <td>   33.1320</td> <td>   28.609</td> <td>    1.158</td> <td> 0.247</td> <td>  -23.053</td> <td>   89.317</td>\n",
       "</tr>\n",
       "<tr>\n",
       "  <th>Industry_-1</th>                                       <td>    5.8383</td> <td>    7.935</td> <td>    0.736</td> <td> 0.462</td> <td>   -9.746</td> <td>   21.422</td>\n",
       "</tr>\n",
       "<tr>\n",
       "  <th>Industry_Accounting</th>                               <td>    2.5098</td> <td>   13.486</td> <td>    0.186</td> <td> 0.852</td> <td>  -23.976</td> <td>   28.995</td>\n",
       "</tr>\n",
       "<tr>\n",
       "  <th>Industry_Advertising & Marketing</th>                  <td>   11.6481</td> <td>    5.976</td> <td>    1.949</td> <td> 0.052</td> <td>   -0.088</td> <td>   23.384</td>\n",
       "</tr>\n",
       "<tr>\n",
       "  <th>Industry_Aerospace & Defense</th>                      <td>    5.5783</td> <td>    3.109</td> <td>    1.794</td> <td> 0.073</td> <td>   -0.528</td> <td>   11.685</td>\n",
       "</tr>\n",
       "<tr>\n",
       "  <th>Industry_Architectural & Engineering Services</th>     <td>  -32.4236</td> <td>   15.936</td> <td>   -2.035</td> <td> 0.042</td> <td>  -63.720</td> <td>   -1.127</td>\n",
       "</tr>\n",
       "<tr>\n",
       "  <th>Industry_Auctions & Galleries</th>                     <td>    9.3409</td> <td>   22.875</td> <td>    0.408</td> <td> 0.683</td> <td>  -35.585</td> <td>   54.267</td>\n",
       "</tr>\n",
       "<tr>\n",
       "  <th>Industry_Banks & Credit Unions</th>                    <td>  -16.9446</td> <td>    8.045</td> <td>   -2.106</td> <td> 0.036</td> <td>  -32.745</td> <td>   -1.144</td>\n",
       "</tr>\n",
       "<tr>\n",
       "  <th>Industry_Beauty & Personal Accessories Stores</th>     <td>   15.4158</td> <td>   21.561</td> <td>    0.715</td> <td> 0.475</td> <td>  -26.929</td> <td>   57.761</td>\n",
       "</tr>\n",
       "<tr>\n",
       "  <th>Industry_Biotech & Pharmaceuticals</th>                <td>    6.4294</td> <td>    2.045</td> <td>    3.145</td> <td> 0.002</td> <td>    2.414</td> <td>   10.445</td>\n",
       "</tr>\n",
       "<tr>\n",
       "  <th>Industry_Brokerage Services</th>                       <td>   28.1128</td> <td>   15.522</td> <td>    1.811</td> <td> 0.071</td> <td>   -2.372</td> <td>   58.598</td>\n",
       "</tr>\n",
       "<tr>\n",
       "  <th>Industry_Colleges & Universities</th>                  <td>   10.9486</td> <td>   12.990</td> <td>    0.843</td> <td> 0.400</td> <td>  -14.562</td> <td>   36.460</td>\n",
       "</tr>\n",
       "<tr>\n",
       "  <th>Industry_Computer Hardware & Software</th>             <td>   -0.9246</td> <td>    3.250</td> <td>   -0.285</td> <td> 0.776</td> <td>   -7.307</td> <td>    5.458</td>\n",
       "</tr>\n",
       "<tr>\n",
       "  <th>Industry_Construction</th>                             <td>  -15.5520</td> <td>   10.562</td> <td>   -1.472</td> <td> 0.141</td> <td>  -36.295</td> <td>    5.191</td>\n",
       "</tr>\n",
       "<tr>\n",
       "  <th>Industry_Consulting</th>                               <td>   12.9278</td> <td>    5.901</td> <td>    2.191</td> <td> 0.029</td> <td>    1.339</td> <td>   24.516</td>\n",
       "</tr>\n",
       "<tr>\n",
       "  <th>Industry_Consumer Product Rental</th>                  <td>   -2.4589</td> <td>   13.017</td> <td>   -0.189</td> <td> 0.850</td> <td>  -28.024</td> <td>   23.106</td>\n",
       "</tr>\n",
       "<tr>\n",
       "  <th>Industry_Consumer Products Manufacturing</th>          <td>   13.8231</td> <td>    9.858</td> <td>    1.402</td> <td> 0.161</td> <td>   -5.538</td> <td>   33.184</td>\n",
       "</tr>\n",
       "<tr>\n",
       "  <th>Industry_Department, Clothing, & Shoe Stores</th>      <td>    4.7171</td> <td>   11.579</td> <td>    0.407</td> <td> 0.684</td> <td>  -18.024</td> <td>   27.458</td>\n",
       "</tr>\n",
       "<tr>\n",
       "  <th>Industry_Education Training Services</th>              <td>  -23.4758</td> <td>   12.525</td> <td>   -1.874</td> <td> 0.061</td> <td>  -48.073</td> <td>    1.122</td>\n",
       "</tr>\n",
       "<tr>\n",
       "  <th>Industry_Energy</th>                                   <td>   -4.1921</td> <td>    7.678</td> <td>   -0.546</td> <td> 0.585</td> <td>  -19.270</td> <td>   10.886</td>\n",
       "</tr>\n",
       "<tr>\n",
       "  <th>Industry_Enterprise Software & Network Solutions</th>  <td>    9.4994</td> <td>    3.592</td> <td>    2.645</td> <td> 0.008</td> <td>    2.445</td> <td>   16.554</td>\n",
       "</tr>\n",
       "<tr>\n",
       "  <th>Industry_Farm Support Services</th>                    <td>   -0.8926</td> <td>   12.652</td> <td>   -0.071</td> <td> 0.944</td> <td>  -25.741</td> <td>   23.956</td>\n",
       "</tr>\n",
       "<tr>\n",
       "  <th>Industry_Federal Agencies</th>                         <td>    8.0706</td> <td>    5.268</td> <td>    1.532</td> <td> 0.126</td> <td>   -2.275</td> <td>   18.416</td>\n",
       "</tr>\n",
       "<tr>\n",
       "  <th>Industry_Financial Analytics & Research</th>           <td>    0.3402</td> <td>    9.196</td> <td>    0.037</td> <td> 0.971</td> <td>  -17.720</td> <td>   18.400</td>\n",
       "</tr>\n",
       "<tr>\n",
       "  <th>Industry_Financial Transaction Processing</th>         <td>  -17.5101</td> <td>   12.894</td> <td>   -1.358</td> <td> 0.175</td> <td>  -42.834</td> <td>    7.813</td>\n",
       "</tr>\n",
       "<tr>\n",
       "  <th>Industry_Food & Beverage Manufacturing</th>            <td>   -3.0947</td> <td>   11.579</td> <td>   -0.267</td> <td> 0.789</td> <td>  -25.836</td> <td>   19.647</td>\n",
       "</tr>\n",
       "<tr>\n",
       "  <th>Industry_Gambling</th>                                 <td>   -9.2525</td> <td>    6.524</td> <td>   -1.418</td> <td> 0.157</td> <td>  -22.065</td> <td>    3.560</td>\n",
       "</tr>\n",
       "<tr>\n",
       "  <th>Industry_Gas Stations</th>                             <td>  -24.3354</td> <td>   15.544</td> <td>   -1.566</td> <td> 0.118</td> <td>  -54.863</td> <td>    6.192</td>\n",
       "</tr>\n",
       "<tr>\n",
       "  <th>Industry_Health Care Products Manufacturing</th>       <td>   21.0157</td> <td>   22.123</td> <td>    0.950</td> <td> 0.343</td> <td>  -22.432</td> <td>   64.464</td>\n",
       "</tr>\n",
       "<tr>\n",
       "  <th>Industry_Health Care Services & Hospitals</th>         <td>    5.9408</td> <td>    2.916</td> <td>    2.037</td> <td> 0.042</td> <td>    0.213</td> <td>   11.668</td>\n",
       "</tr>\n",
       "<tr>\n",
       "  <th>Industry_Health, Beauty, & Fitness</th>                <td>   -2.2275</td> <td>   17.436</td> <td>   -0.128</td> <td> 0.898</td> <td>  -36.470</td> <td>   32.015</td>\n",
       "</tr>\n",
       "<tr>\n",
       "  <th>Industry_IT Services</th>                              <td>    1.2100</td> <td>    3.580</td> <td>    0.338</td> <td> 0.736</td> <td>   -5.822</td> <td>    8.242</td>\n",
       "</tr>\n",
       "<tr>\n",
       "  <th>Industry_Industrial Manufacturing</th>                 <td>  -13.8517</td> <td>   12.833</td> <td>   -1.079</td> <td> 0.281</td> <td>  -39.054</td> <td>   11.351</td>\n",
       "</tr>\n",
       "<tr>\n",
       "  <th>Industry_Insurance Agencies & Brokerages</th>          <td>   -3.9062</td> <td>    7.005</td> <td>   -0.558</td> <td> 0.577</td> <td>  -17.664</td> <td>    9.852</td>\n",
       "</tr>\n",
       "<tr>\n",
       "  <th>Industry_Insurance Carriers</th>                       <td>    5.5810</td> <td>    4.489</td> <td>    1.243</td> <td> 0.214</td> <td>   -3.235</td> <td>   14.397</td>\n",
       "</tr>\n",
       "<tr>\n",
       "  <th>Industry_Internet</th>                                 <td>    0.3625</td> <td>    4.513</td> <td>    0.080</td> <td> 0.936</td> <td>   -8.502</td> <td>    9.227</td>\n",
       "</tr>\n",
       "<tr>\n",
       "  <th>Industry_Investment Banking & Asset Management</th>    <td>   35.8709</td> <td>   12.086</td> <td>    2.968</td> <td> 0.003</td> <td>   12.134</td> <td>   59.608</td>\n",
       "</tr>\n",
       "<tr>\n",
       "  <th>Industry_K-12 Education</th>                           <td>   10.0671</td> <td>   14.781</td> <td>    0.681</td> <td> 0.496</td> <td>  -18.962</td> <td>   39.096</td>\n",
       "</tr>\n",
       "<tr>\n",
       "  <th>Industry_Lending</th>                                  <td>   -1.5471</td> <td>    9.860</td> <td>   -0.157</td> <td> 0.875</td> <td>  -20.912</td> <td>   17.818</td>\n",
       "</tr>\n",
       "<tr>\n",
       "  <th>Industry_Logistics & Supply Chain</th>                 <td>    1.4288</td> <td>   13.405</td> <td>    0.107</td> <td> 0.915</td> <td>  -24.897</td> <td>   27.755</td>\n",
       "</tr>\n",
       "<tr>\n",
       "  <th>Industry_Metals Brokers</th>                           <td>   -7.9036</td> <td>   15.608</td> <td>   -0.506</td> <td> 0.613</td> <td>  -38.557</td> <td>   22.750</td>\n",
       "</tr>\n",
       "<tr>\n",
       "  <th>Industry_Mining</th>                                   <td>   -3.5905</td> <td>   17.980</td> <td>   -0.200</td> <td> 0.842</td> <td>  -38.903</td> <td>   31.722</td>\n",
       "</tr>\n",
       "<tr>\n",
       "  <th>Industry_Motion Picture Production & Distribution</th> <td>   46.0437</td> <td>   19.608</td> <td>    2.348</td> <td> 0.019</td> <td>    7.535</td> <td>   84.552</td>\n",
       "</tr>\n",
       "<tr>\n",
       "  <th>Industry_Other Retail Stores</th>                      <td>   39.9862</td> <td>   21.695</td> <td>    1.843</td> <td> 0.066</td> <td>   -2.621</td> <td>   82.593</td>\n",
       "</tr>\n",
       "<tr>\n",
       "  <th>Industry_Real Estate</th>                              <td>   -2.3353</td> <td>    4.960</td> <td>   -0.471</td> <td> 0.638</td> <td>  -12.076</td> <td>    7.405</td>\n",
       "</tr>\n",
       "<tr>\n",
       "  <th>Industry_Religious Organizations</th>                  <td>   25.9002</td> <td>   13.715</td> <td>    1.888</td> <td> 0.059</td> <td>   -1.035</td> <td>   52.836</td>\n",
       "</tr>\n",
       "<tr>\n",
       "  <th>Industry_Research & Development</th>                   <td>   -3.1302</td> <td>    6.544</td> <td>   -0.478</td> <td> 0.633</td> <td>  -15.982</td> <td>    9.722</td>\n",
       "</tr>\n",
       "<tr>\n",
       "  <th>Industry_Security Services</th>                        <td>   14.3425</td> <td>    9.791</td> <td>    1.465</td> <td> 0.143</td> <td>   -4.886</td> <td>   33.571</td>\n",
       "</tr>\n",
       "<tr>\n",
       "  <th>Industry_Social Assistance</th>                        <td>  -11.0886</td> <td>   11.786</td> <td>   -0.941</td> <td> 0.347</td> <td>  -34.235</td> <td>   12.058</td>\n",
       "</tr>\n",
       "<tr>\n",
       "  <th>Industry_Sporting Goods Stores</th>                    <td>  -37.3097</td> <td>   17.862</td> <td>   -2.089</td> <td> 0.037</td> <td>  -72.389</td> <td>   -2.230</td>\n",
       "</tr>\n",
       "<tr>\n",
       "  <th>Industry_Staffing & Outsourcing</th>                   <td>   -5.3747</td> <td>   11.019</td> <td>   -0.488</td> <td> 0.626</td> <td>  -27.014</td> <td>   16.265</td>\n",
       "</tr>\n",
       "<tr>\n",
       "  <th>Industry_Stock Exchanges</th>                          <td>  -15.1212</td> <td>    7.891</td> <td>   -1.916</td> <td> 0.056</td> <td>  -30.619</td> <td>    0.377</td>\n",
       "</tr>\n",
       "<tr>\n",
       "  <th>Industry_TV Broadcast & Cable Networks</th>            <td>    0.0330</td> <td>   15.540</td> <td>    0.002</td> <td> 0.998</td> <td>  -30.486</td> <td>   30.552</td>\n",
       "</tr>\n",
       "<tr>\n",
       "  <th>Industry_Telecommunications Manufacturing</th>         <td>    4.1691</td> <td>   13.669</td> <td>    0.305</td> <td> 0.760</td> <td>  -22.676</td> <td>   31.014</td>\n",
       "</tr>\n",
       "<tr>\n",
       "  <th>Industry_Telecommunications Services</th>              <td>    0.1287</td> <td>   11.268</td> <td>    0.011</td> <td> 0.991</td> <td>  -22.000</td> <td>   22.258</td>\n",
       "</tr>\n",
       "<tr>\n",
       "  <th>Industry_Transportation Equipment Manufacturing</th>   <td>  -19.4469</td> <td>   23.723</td> <td>   -0.820</td> <td> 0.413</td> <td>  -66.037</td> <td>   27.143</td>\n",
       "</tr>\n",
       "<tr>\n",
       "  <th>Industry_Transportation Management</th>                <td>  -20.6995</td> <td>   14.025</td> <td>   -1.476</td> <td> 0.141</td> <td>  -48.244</td> <td>    6.845</td>\n",
       "</tr>\n",
       "<tr>\n",
       "  <th>Industry_Travel Agencies</th>                          <td>   -5.5190</td> <td>    5.255</td> <td>   -1.050</td> <td> 0.294</td> <td>  -15.840</td> <td>    4.802</td>\n",
       "</tr>\n",
       "<tr>\n",
       "  <th>Industry_Trucking</th>                                 <td>   22.8371</td> <td>   19.852</td> <td>    1.150</td> <td> 0.250</td> <td>  -16.151</td> <td>   61.825</td>\n",
       "</tr>\n",
       "<tr>\n",
       "  <th>Industry_Video Games</th>                              <td>  -30.1817</td> <td>   14.428</td> <td>   -2.092</td> <td> 0.037</td> <td>  -58.518</td> <td>   -1.845</td>\n",
       "</tr>\n",
       "<tr>\n",
       "  <th>Industry_Wholesale</th>                                <td>   -2.2256</td> <td>   13.108</td> <td>   -0.170</td> <td> 0.865</td> <td>  -27.969</td> <td>   23.518</td>\n",
       "</tr>\n",
       "<tr>\n",
       "  <th>Sector_-1</th>                                         <td>    5.8383</td> <td>    7.935</td> <td>    0.736</td> <td> 0.462</td> <td>   -9.746</td> <td>   21.422</td>\n",
       "</tr>\n",
       "<tr>\n",
       "  <th>Sector_Accounting & Legal</th>                         <td>    2.5098</td> <td>   13.486</td> <td>    0.186</td> <td> 0.852</td> <td>  -23.976</td> <td>   28.995</td>\n",
       "</tr>\n",
       "<tr>\n",
       "  <th>Sector_Aerospace & Defense</th>                        <td>    5.5783</td> <td>    3.109</td> <td>    1.794</td> <td> 0.073</td> <td>   -0.528</td> <td>   11.685</td>\n",
       "</tr>\n",
       "<tr>\n",
       "  <th>Sector_Agriculture & Forestry</th>                     <td>   -0.8926</td> <td>   12.652</td> <td>   -0.071</td> <td> 0.944</td> <td>  -25.741</td> <td>   23.956</td>\n",
       "</tr>\n",
       "<tr>\n",
       "  <th>Sector_Arts, Entertainment & Recreation</th>           <td>   -9.2525</td> <td>    6.524</td> <td>   -1.418</td> <td> 0.157</td> <td>  -22.065</td> <td>    3.560</td>\n",
       "</tr>\n",
       "<tr>\n",
       "  <th>Sector_Biotech & Pharmaceuticals</th>                  <td>    6.4294</td> <td>    2.045</td> <td>    3.145</td> <td> 0.002</td> <td>    2.414</td> <td>   10.445</td>\n",
       "</tr>\n",
       "<tr>\n",
       "  <th>Sector_Business Services</th>                          <td>   -4.2357</td> <td>    4.213</td> <td>   -1.005</td> <td> 0.315</td> <td>  -12.509</td> <td>    4.038</td>\n",
       "</tr>\n",
       "<tr>\n",
       "  <th>Sector_Construction, Repair & Maintenance</th>         <td>  -15.5520</td> <td>   10.562</td> <td>   -1.472</td> <td> 0.141</td> <td>  -36.295</td> <td>    5.191</td>\n",
       "</tr>\n",
       "<tr>\n",
       "  <th>Sector_Consumer Services</th>                          <td>   -4.6864</td> <td>    9.426</td> <td>   -0.497</td> <td> 0.619</td> <td>  -23.199</td> <td>   13.826</td>\n",
       "</tr>\n",
       "<tr>\n",
       "  <th>Sector_Education</th>                                  <td>   -2.4602</td> <td>    6.838</td> <td>   -0.360</td> <td> 0.719</td> <td>  -15.889</td> <td>   10.968</td>\n",
       "</tr>\n",
       "<tr>\n",
       "  <th>Sector_Finance</th>                                    <td>   13.2008</td> <td>    4.519</td> <td>    2.921</td> <td> 0.004</td> <td>    4.327</td> <td>   22.075</td>\n",
       "</tr>\n",
       "<tr>\n",
       "  <th>Sector_Government</th>                                 <td>    8.0706</td> <td>    5.268</td> <td>    1.532</td> <td> 0.126</td> <td>   -2.275</td> <td>   18.416</td>\n",
       "</tr>\n",
       "<tr>\n",
       "  <th>Sector_Health Care</th>                                <td>    5.9408</td> <td>    2.916</td> <td>    2.037</td> <td> 0.042</td> <td>    0.213</td> <td>   11.668</td>\n",
       "</tr>\n",
       "<tr>\n",
       "  <th>Sector_Information Technology</th>                     <td>   10.1474</td> <td>    2.785</td> <td>    3.644</td> <td> 0.000</td> <td>    4.678</td> <td>   15.617</td>\n",
       "</tr>\n",
       "<tr>\n",
       "  <th>Sector_Insurance</th>                                  <td>    1.6747</td> <td>    3.945</td> <td>    0.425</td> <td> 0.671</td> <td>   -6.072</td> <td>    9.422</td>\n",
       "</tr>\n",
       "<tr>\n",
       "  <th>Sector_Manufacturing</th>                              <td>   -1.5546</td> <td>    6.909</td> <td>   -0.225</td> <td> 0.822</td> <td>  -15.124</td> <td>   12.014</td>\n",
       "</tr>\n",
       "<tr>\n",
       "  <th>Sector_Media</th>                                      <td>   15.8949</td> <td>    8.725</td> <td>    1.822</td> <td> 0.069</td> <td>   -1.240</td> <td>   33.030</td>\n",
       "</tr>\n",
       "<tr>\n",
       "  <th>Sector_Mining & Metals</th>                            <td>  -11.4941</td> <td>   10.725</td> <td>   -1.072</td> <td> 0.284</td> <td>  -32.558</td> <td>    9.570</td>\n",
       "</tr>\n",
       "<tr>\n",
       "  <th>Sector_Non-Profit</th>                                 <td>   14.8115</td> <td>    8.900</td> <td>    1.664</td> <td> 0.097</td> <td>   -2.667</td> <td>   32.290</td>\n",
       "</tr>\n",
       "<tr>\n",
       "  <th>Sector_Oil, Gas, Energy & Utilities</th>               <td>   -4.1921</td> <td>    7.678</td> <td>   -0.546</td> <td> 0.585</td> <td>  -19.270</td> <td>   10.886</td>\n",
       "</tr>\n",
       "<tr>\n",
       "  <th>Sector_Real Estate</th>                                <td>   -2.3353</td> <td>    4.960</td> <td>   -0.471</td> <td> 0.638</td> <td>  -12.076</td> <td>    7.405</td>\n",
       "</tr>\n",
       "<tr>\n",
       "  <th>Sector_Retail</th>                                     <td>    7.8149</td> <td>    7.178</td> <td>    1.089</td> <td> 0.277</td> <td>   -6.283</td> <td>   21.912</td>\n",
       "</tr>\n",
       "<tr>\n",
       "  <th>Sector_Telecommunications</th>                         <td>    4.2978</td> <td>    7.813</td> <td>    0.550</td> <td> 0.582</td> <td>  -11.046</td> <td>   19.641</td>\n",
       "</tr>\n",
       "<tr>\n",
       "  <th>Sector_Transportation & Logistics</th>                 <td>    3.5664</td> <td>    8.050</td> <td>    0.443</td> <td> 0.658</td> <td>  -12.244</td> <td>   19.377</td>\n",
       "</tr>\n",
       "<tr>\n",
       "  <th>Sector_Travel & Tourism</th>                           <td>   -5.5190</td> <td>    5.255</td> <td>   -1.050</td> <td> 0.294</td> <td>  -15.840</td> <td>    4.802</td>\n",
       "</tr>\n",
       "<tr>\n",
       "  <th>Revenue_$1 to $2 billion (USD)</th>                    <td>    2.9065</td> <td>    4.800</td> <td>    0.605</td> <td> 0.545</td> <td>   -6.521</td> <td>   12.334</td>\n",
       "</tr>\n",
       "<tr>\n",
       "  <th>Revenue_$1 to $5 million (USD)</th>                    <td>   -5.6696</td> <td>   10.966</td> <td>   -0.517</td> <td> 0.605</td> <td>  -27.206</td> <td>   15.866</td>\n",
       "</tr>\n",
       "<tr>\n",
       "  <th>Revenue_$10 to $25 million (USD)</th>                  <td>   -4.8466</td> <td>    5.228</td> <td>   -0.927</td> <td> 0.354</td> <td>  -15.114</td> <td>    5.421</td>\n",
       "</tr>\n",
       "<tr>\n",
       "  <th>Revenue_$10+ billion (USD)</th>                        <td>   10.4141</td> <td>    6.399</td> <td>    1.628</td> <td> 0.104</td> <td>   -2.152</td> <td>   22.981</td>\n",
       "</tr>\n",
       "<tr>\n",
       "  <th>Revenue_$100 to $500 million (USD)</th>                <td>   -5.1303</td> <td>    4.064</td> <td>   -1.262</td> <td> 0.207</td> <td>  -13.112</td> <td>    2.851</td>\n",
       "</tr>\n",
       "<tr>\n",
       "  <th>Revenue_$2 to $5 billion (USD)</th>                    <td>    0.2080</td> <td>    6.283</td> <td>    0.033</td> <td> 0.974</td> <td>  -12.132</td> <td>   12.548</td>\n",
       "</tr>\n",
       "<tr>\n",
       "  <th>Revenue_$25 to $50 million (USD)</th>                  <td>   -5.2661</td> <td>    5.368</td> <td>   -0.981</td> <td> 0.327</td> <td>  -15.809</td> <td>    5.276</td>\n",
       "</tr>\n",
       "<tr>\n",
       "  <th>Revenue_$5 to $10 billion (USD)</th>                   <td>    6.6867</td> <td>    7.865</td> <td>    0.850</td> <td> 0.396</td> <td>   -8.759</td> <td>   22.133</td>\n",
       "</tr>\n",
       "<tr>\n",
       "  <th>Revenue_$5 to $10 million (USD)</th>                   <td>   31.8413</td> <td>    8.323</td> <td>    3.826</td> <td> 0.000</td> <td>   15.496</td> <td>   48.186</td>\n",
       "</tr>\n",
       "<tr>\n",
       "  <th>Revenue_$50 to $100 million (USD)</th>                 <td>    5.3703</td> <td>    4.974</td> <td>    1.080</td> <td> 0.281</td> <td>   -4.398</td> <td>   15.138</td>\n",
       "</tr>\n",
       "<tr>\n",
       "  <th>Revenue_$500 million to $1 billion (USD)</th>          <td>   -1.9413</td> <td>    5.298</td> <td>   -0.366</td> <td> 0.714</td> <td>  -12.346</td> <td>    8.463</td>\n",
       "</tr>\n",
       "<tr>\n",
       "  <th>Revenue_-1</th>                                        <td>   13.6196</td> <td>    8.629</td> <td>    1.578</td> <td> 0.115</td> <td>   -3.328</td> <td>   30.567</td>\n",
       "</tr>\n",
       "<tr>\n",
       "  <th>Revenue_Less than $1 million (USD)</th>                <td>   -4.2630</td> <td>   15.212</td> <td>   -0.280</td> <td> 0.779</td> <td>  -34.139</td> <td>   25.613</td>\n",
       "</tr>\n",
       "<tr>\n",
       "  <th>Revenue_Unknown / Non-Applicable</th>                  <td>   -0.3283</td> <td>    3.081</td> <td>   -0.107</td> <td> 0.915</td> <td>   -6.379</td> <td>    5.722</td>\n",
       "</tr>\n",
       "<tr>\n",
       "  <th>job_state_AL</th>                                      <td>   -6.0058</td> <td>   10.467</td> <td>   -0.574</td> <td> 0.566</td> <td>  -26.563</td> <td>   14.551</td>\n",
       "</tr>\n",
       "<tr>\n",
       "  <th>job_state_AZ</th>                                      <td>  -14.0275</td> <td>    8.626</td> <td>   -1.626</td> <td> 0.104</td> <td>  -30.969</td> <td>    2.914</td>\n",
       "</tr>\n",
       "<tr>\n",
       "  <th>job_state_CA</th>                                      <td>   26.7197</td> <td>    3.156</td> <td>    8.467</td> <td> 0.000</td> <td>   20.522</td> <td>   32.918</td>\n",
       "</tr>\n",
       "<tr>\n",
       "  <th>job_state_CO</th>                                      <td>    7.8529</td> <td>    8.300</td> <td>    0.946</td> <td> 0.344</td> <td>   -8.448</td> <td>   24.153</td>\n",
       "</tr>\n",
       "<tr>\n",
       "  <th>job_state_CT</th>                                      <td>  -23.7326</td> <td>   11.366</td> <td>   -2.088</td> <td> 0.037</td> <td>  -46.056</td> <td>   -1.410</td>\n",
       "</tr>\n",
       "<tr>\n",
       "  <th>job_state_DC</th>                                      <td>   13.7357</td> <td>    7.936</td> <td>    1.731</td> <td> 0.084</td> <td>   -1.850</td> <td>   29.322</td>\n",
       "</tr>\n",
       "<tr>\n",
       "  <th>job_state_DE</th>                                      <td>    9.2463</td> <td>   13.872</td> <td>    0.667</td> <td> 0.505</td> <td>  -17.997</td> <td>   36.489</td>\n",
       "</tr>\n",
       "<tr>\n",
       "  <th>job_state_FL</th>                                      <td>  -15.8810</td> <td>    7.637</td> <td>   -2.080</td> <td> 0.038</td> <td>  -30.879</td> <td>   -0.883</td>\n",
       "</tr>\n",
       "<tr>\n",
       "  <th>job_state_GA</th>                                      <td>  -18.5367</td> <td>   10.118</td> <td>   -1.832</td> <td> 0.067</td> <td>  -38.407</td> <td>    1.334</td>\n",
       "</tr>\n",
       "<tr>\n",
       "  <th>job_state_IA</th>                                      <td>   -2.4859</td> <td>   12.448</td> <td>   -0.200</td> <td> 0.842</td> <td>  -26.932</td> <td>   21.960</td>\n",
       "</tr>\n",
       "<tr>\n",
       "  <th>job_state_ID</th>                                      <td>  -24.3798</td> <td>   18.301</td> <td>   -1.332</td> <td> 0.183</td> <td>  -60.322</td> <td>   11.562</td>\n",
       "</tr>\n",
       "<tr>\n",
       "  <th>job_state_IL</th>                                      <td>    9.0956</td> <td>    5.035</td> <td>    1.807</td> <td> 0.071</td> <td>   -0.793</td> <td>   18.984</td>\n",
       "</tr>\n",
       "<tr>\n",
       "  <th>job_state_IN</th>                                      <td>  -10.3063</td> <td>    8.818</td> <td>   -1.169</td> <td> 0.243</td> <td>  -27.624</td> <td>    7.012</td>\n",
       "</tr>\n",
       "<tr>\n",
       "  <th>job_state_KS</th>                                      <td>  -15.1212</td> <td>    7.891</td> <td>   -1.916</td> <td> 0.056</td> <td>  -30.619</td> <td>    0.377</td>\n",
       "</tr>\n",
       "<tr>\n",
       "  <th>job_state_KY</th>                                      <td>   19.8151</td> <td>   12.362</td> <td>    1.603</td> <td> 0.109</td> <td>   -4.463</td> <td>   44.093</td>\n",
       "</tr>\n",
       "<tr>\n",
       "  <th>job_state_LA</th>                                      <td>   -6.2195</td> <td>   13.080</td> <td>   -0.475</td> <td> 0.635</td> <td>  -31.908</td> <td>   19.469</td>\n",
       "</tr>\n",
       "<tr>\n",
       "  <th>job_state_MA</th>                                      <td>    2.8321</td> <td>    3.874</td> <td>    0.731</td> <td> 0.465</td> <td>   -4.776</td> <td>   10.440</td>\n",
       "</tr>\n",
       "<tr>\n",
       "  <th>job_state_MD</th>                                      <td>    7.8101</td> <td>    4.926</td> <td>    1.586</td> <td> 0.113</td> <td>   -1.864</td> <td>   17.484</td>\n",
       "</tr>\n",
       "<tr>\n",
       "  <th>job_state_MI</th>                                      <td>    7.4898</td> <td>   12.333</td> <td>    0.607</td> <td> 0.544</td> <td>  -16.732</td> <td>   31.711</td>\n",
       "</tr>\n",
       "<tr>\n",
       "  <th>job_state_MN</th>                                      <td>    8.3551</td> <td>   17.271</td> <td>    0.484</td> <td> 0.629</td> <td>  -25.563</td> <td>   42.274</td>\n",
       "</tr>\n",
       "<tr>\n",
       "  <th>job_state_MO</th>                                      <td>    9.8899</td> <td>    9.858</td> <td>    1.003</td> <td> 0.316</td> <td>   -9.470</td> <td>   29.250</td>\n",
       "</tr>\n",
       "<tr>\n",
       "  <th>job_state_NC</th>                                      <td>   -3.8930</td> <td>    6.753</td> <td>   -0.576</td> <td> 0.565</td> <td>  -17.155</td> <td>    9.370</td>\n",
       "</tr>\n",
       "<tr>\n",
       "  <th>job_state_NE</th>                                      <td>   -3.1512</td> <td>   13.459</td> <td>   -0.234</td> <td> 0.815</td> <td>  -29.584</td> <td>   23.281</td>\n",
       "</tr>\n",
       "<tr>\n",
       "  <th>job_state_NJ</th>                                      <td>    1.1983</td> <td>    6.825</td> <td>    0.176</td> <td> 0.861</td> <td>  -12.205</td> <td>   14.602</td>\n",
       "</tr>\n",
       "<tr>\n",
       "  <th>job_state_NM</th>                                      <td>  -30.4763</td> <td>   14.488</td> <td>   -2.104</td> <td> 0.036</td> <td>  -58.930</td> <td>   -2.023</td>\n",
       "</tr>\n",
       "<tr>\n",
       "  <th>job_state_NY</th>                                      <td>    5.8270</td> <td>    4.026</td> <td>    1.447</td> <td> 0.148</td> <td>   -2.080</td> <td>   13.734</td>\n",
       "</tr>\n",
       "<tr>\n",
       "  <th>job_state_OH</th>                                      <td>   -0.4478</td> <td>    8.177</td> <td>   -0.055</td> <td> 0.956</td> <td>  -16.507</td> <td>   15.612</td>\n",
       "</tr>\n",
       "<tr>\n",
       "  <th>job_state_OR</th>                                      <td>    2.3883</td> <td>   12.656</td> <td>    0.189</td> <td> 0.850</td> <td>  -22.468</td> <td>   27.244</td>\n",
       "</tr>\n",
       "<tr>\n",
       "  <th>job_state_PA</th>                                      <td>    9.5599</td> <td>    7.260</td> <td>    1.317</td> <td> 0.188</td> <td>   -4.698</td> <td>   23.817</td>\n",
       "</tr>\n",
       "<tr>\n",
       "  <th>job_state_RI</th>                                      <td>   39.4787</td> <td>   24.691</td> <td>    1.599</td> <td> 0.110</td> <td>   -9.012</td> <td>   87.969</td>\n",
       "</tr>\n",
       "<tr>\n",
       "  <th>job_state_SC</th>                                      <td>   30.7103</td> <td>   29.340</td> <td>    1.047</td> <td> 0.296</td> <td>  -26.912</td> <td>   88.332</td>\n",
       "</tr>\n",
       "<tr>\n",
       "  <th>job_state_TN</th>                                      <td>   -6.1085</td> <td>    9.284</td> <td>   -0.658</td> <td> 0.511</td> <td>  -24.342</td> <td>   12.125</td>\n",
       "</tr>\n",
       "<tr>\n",
       "  <th>job_state_TX</th>                                      <td>    0.5736</td> <td>    5.643</td> <td>    0.102</td> <td> 0.919</td> <td>  -10.510</td> <td>   11.657</td>\n",
       "</tr>\n",
       "<tr>\n",
       "  <th>job_state_UT</th>                                      <td>    3.2816</td> <td>   14.838</td> <td>    0.221</td> <td> 0.825</td> <td>  -25.859</td> <td>   32.423</td>\n",
       "</tr>\n",
       "<tr>\n",
       "  <th>job_state_VA</th>                                      <td>   -0.0401</td> <td>    5.010</td> <td>   -0.008</td> <td> 0.994</td> <td>   -9.880</td> <td>    9.800</td>\n",
       "</tr>\n",
       "<tr>\n",
       "  <th>job_state_WA</th>                                      <td>   12.7546</td> <td>    8.147</td> <td>    1.565</td> <td> 0.118</td> <td>   -3.246</td> <td>   28.755</td>\n",
       "</tr>\n",
       "<tr>\n",
       "  <th>job_state_WI</th>                                      <td>   -4.2002</td> <td>   10.117</td> <td>   -0.415</td> <td> 0.678</td> <td>  -24.069</td> <td>   15.669</td>\n",
       "</tr>\n",
       "<tr>\n",
       "  <th>job_simp_analyst</th>                                  <td>  -31.3778</td> <td>    3.362</td> <td>   -9.334</td> <td> 0.000</td> <td>  -37.980</td> <td>  -24.776</td>\n",
       "</tr>\n",
       "<tr>\n",
       "  <th>job_simp_data engineer</th>                            <td>    2.1623</td> <td>    3.208</td> <td>    0.674</td> <td> 0.501</td> <td>   -4.138</td> <td>    8.463</td>\n",
       "</tr>\n",
       "<tr>\n",
       "  <th>job_simp_data scientist</th>                           <td>    8.1718</td> <td>    2.543</td> <td>    3.213</td> <td> 0.001</td> <td>    3.177</td> <td>   13.167</td>\n",
       "</tr>\n",
       "<tr>\n",
       "  <th>job_simp_director</th>                                 <td>   68.6357</td> <td>    6.614</td> <td>   10.378</td> <td> 0.000</td> <td>   55.647</td> <td>   81.624</td>\n",
       "</tr>\n",
       "<tr>\n",
       "  <th>job_simp_manager</th>                                  <td>  -14.6575</td> <td>    5.585</td> <td>   -2.624</td> <td> 0.009</td> <td>  -25.626</td> <td>   -3.689</td>\n",
       "</tr>\n",
       "<tr>\n",
       "  <th>job_simp_mle</th>                                      <td>   21.7554</td> <td>    6.033</td> <td>    3.606</td> <td> 0.000</td> <td>    9.907</td> <td>   33.604</td>\n",
       "</tr>\n",
       "<tr>\n",
       "  <th>job_simp_na</th>                                       <td>  -11.0887</td> <td>    2.987</td> <td>   -3.712</td> <td> 0.000</td> <td>  -16.955</td> <td>   -5.223</td>\n",
       "</tr>\n",
       "<tr>\n",
       "  <th>seniority_jr</th>                                      <td>   12.2482</td> <td>   13.313</td> <td>    0.920</td> <td> 0.358</td> <td>  -13.898</td> <td>   38.394</td>\n",
       "</tr>\n",
       "<tr>\n",
       "  <th>seniority_na</th>                                      <td>    2.7464</td> <td>    5.155</td> <td>    0.533</td> <td> 0.594</td> <td>   -7.377</td> <td>   12.870</td>\n",
       "</tr>\n",
       "<tr>\n",
       "  <th>seniority_senior</th>                                  <td>   28.6066</td> <td>    5.334</td> <td>    5.363</td> <td> 0.000</td> <td>   18.131</td> <td>   39.082</td>\n",
       "</tr>\n",
       "</table>\n",
       "<table class=\"simpletable\">\n",
       "<tr>\n",
       "  <th>Omnibus:</th>       <td>71.682</td> <th>  Durbin-Watson:     </th> <td>   2.047</td>\n",
       "</tr>\n",
       "<tr>\n",
       "  <th>Prob(Omnibus):</th> <td> 0.000</td> <th>  Jarque-Bera (JB):  </th> <td> 299.948</td>\n",
       "</tr>\n",
       "<tr>\n",
       "  <th>Skew:</th>          <td> 0.336</td> <th>  Prob(JB):          </th> <td>7.36e-66</td>\n",
       "</tr>\n",
       "<tr>\n",
       "  <th>Kurtosis:</th>      <td> 6.042</td> <th>  Cond. No.          </th> <td>2.76e+19</td>\n",
       "</tr>\n",
       "</table><br/><br/>Notes:<br/>[1] Standard Errors assume that the covariance matrix of the errors is correctly specified.<br/>[2] The smallest eigenvalue is 1.68e-29. This might indicate that there are<br/>strong multicollinearity problems or that the design matrix is singular."
      ],
      "text/plain": [
       "<class 'statsmodels.iolib.summary.Summary'>\n",
       "\"\"\"\n",
       "                            OLS Regression Results                            \n",
       "==============================================================================\n",
       "Dep. Variable:                      y   R-squared:                       0.708\n",
       "Model:                            OLS   Adj. R-squared:                  0.638\n",
       "Method:                 Least Squares   F-statistic:                     10.21\n",
       "Date:                Tue, 07 Mar 2023   Prob (F-statistic):           1.48e-94\n",
       "Time:                        11:09:21   Log-Likelihood:                -3311.7\n",
       "No. Observations:                 742   AIC:                             6909.\n",
       "Df Residuals:                     599   BIC:                             7568.\n",
       "Df Model:                         142                                         \n",
       "Covariance Type:            nonrobust                                         \n",
       "=====================================================================================================================\n",
       "                                                        coef    std err          t      P>|t|      [0.025      0.975]\n",
       "---------------------------------------------------------------------------------------------------------------------\n",
       "const                                                43.6012      6.720      6.488      0.000      30.404      56.799\n",
       "Rating                                                3.6051      1.937      1.861      0.063      -0.200       7.410\n",
       "num_comp                                              2.2511      0.868      2.593      0.010       0.546       3.956\n",
       "hourly                                              -36.5821      9.173     -3.988      0.000     -54.597     -18.567\n",
       "employer_provided                                    31.3641     11.524      2.722      0.007       8.731      53.997\n",
       "same_state                                            2.4813      2.619      0.948      0.344      -2.661       7.624\n",
       "age                                                   0.0348      0.030      1.160      0.246      -0.024       0.094\n",
       "python_yn                                             8.1363      2.523      3.224      0.001       3.180      13.092\n",
       "spark                                                -0.5715      2.921     -0.196      0.845      -6.307       5.164\n",
       "aws                                                   1.1228      2.736      0.410      0.682      -4.250       6.496\n",
       "excel                                                -0.4020      2.268     -0.177      0.859      -4.855       4.051\n",
       "desc_len                                             -0.0001      0.001     -0.171      0.864      -0.002       0.001\n",
       "Size_-1                                              13.6196      8.629      1.578      0.115      -3.328      30.567\n",
       "Size_1 to 50 employees                                1.1087      6.501      0.171      0.865     -11.659      13.876\n",
       "Size_10000+ employees                                -2.9049      5.801     -0.501      0.617     -14.297       8.487\n",
       "Size_1001 to 5000 employees                           6.1218      3.880      1.578      0.115      -1.498      13.741\n",
       "Size_201 to 500 employees                             2.2418      3.873      0.579      0.563      -5.364       9.848\n",
       "Size_5001 to 10000 employees                         -3.8783      5.443     -0.713      0.476     -14.568       6.811\n",
       "Size_501 to 1000 employees                            2.1611      4.059      0.532      0.595      -5.811      10.133\n",
       "Size_51 to 200 employees                              4.1816      4.422      0.946      0.345      -4.502      12.865\n",
       "Size_Unknown                                         20.9498     13.993      1.497      0.135      -6.532      48.432\n",
       "Type of ownership_-1                                 13.6196      8.629      1.578      0.115      -3.328      30.567\n",
       "Type of ownership_College / University                6.4736     17.737      0.365      0.715     -28.360      41.307\n",
       "Type of ownership_Company - Private                   8.5803      5.239      1.638      0.102      -1.709      18.869\n",
       "Type of ownership_Company - Public                   13.2791      5.699      2.330      0.020       2.086      24.472\n",
       "Type of ownership_Government                        -15.3416     15.290     -1.003      0.316     -45.370      14.687\n",
       "Type of ownership_Hospital                           -7.1449      9.965     -0.717      0.474     -26.715      12.425\n",
       "Type of ownership_Nonprofit Organization             -9.8015      6.711     -1.460      0.145     -22.982       3.379\n",
       "Type of ownership_Other Organization                 -5.9874     14.343     -0.417      0.676     -34.155      22.181\n",
       "Type of ownership_School / School District           -5.9826     23.791     -0.251      0.802     -52.707      40.742\n",
       "Type of ownership_Subsidiary or Business Segment     12.7745      6.927      1.844      0.066      -0.829      26.378\n",
       "Type of ownership_Unknown                            33.1320     28.609      1.158      0.247     -23.053      89.317\n",
       "Industry_-1                                           5.8383      7.935      0.736      0.462      -9.746      21.422\n",
       "Industry_Accounting                                   2.5098     13.486      0.186      0.852     -23.976      28.995\n",
       "Industry_Advertising & Marketing                     11.6481      5.976      1.949      0.052      -0.088      23.384\n",
       "Industry_Aerospace & Defense                          5.5783      3.109      1.794      0.073      -0.528      11.685\n",
       "Industry_Architectural & Engineering Services       -32.4236     15.936     -2.035      0.042     -63.720      -1.127\n",
       "Industry_Auctions & Galleries                         9.3409     22.875      0.408      0.683     -35.585      54.267\n",
       "Industry_Banks & Credit Unions                      -16.9446      8.045     -2.106      0.036     -32.745      -1.144\n",
       "Industry_Beauty & Personal Accessories Stores        15.4158     21.561      0.715      0.475     -26.929      57.761\n",
       "Industry_Biotech & Pharmaceuticals                    6.4294      2.045      3.145      0.002       2.414      10.445\n",
       "Industry_Brokerage Services                          28.1128     15.522      1.811      0.071      -2.372      58.598\n",
       "Industry_Colleges & Universities                     10.9486     12.990      0.843      0.400     -14.562      36.460\n",
       "Industry_Computer Hardware & Software                -0.9246      3.250     -0.285      0.776      -7.307       5.458\n",
       "Industry_Construction                               -15.5520     10.562     -1.472      0.141     -36.295       5.191\n",
       "Industry_Consulting                                  12.9278      5.901      2.191      0.029       1.339      24.516\n",
       "Industry_Consumer Product Rental                     -2.4589     13.017     -0.189      0.850     -28.024      23.106\n",
       "Industry_Consumer Products Manufacturing             13.8231      9.858      1.402      0.161      -5.538      33.184\n",
       "Industry_Department, Clothing, & Shoe Stores          4.7171     11.579      0.407      0.684     -18.024      27.458\n",
       "Industry_Education Training Services                -23.4758     12.525     -1.874      0.061     -48.073       1.122\n",
       "Industry_Energy                                      -4.1921      7.678     -0.546      0.585     -19.270      10.886\n",
       "Industry_Enterprise Software & Network Solutions      9.4994      3.592      2.645      0.008       2.445      16.554\n",
       "Industry_Farm Support Services                       -0.8926     12.652     -0.071      0.944     -25.741      23.956\n",
       "Industry_Federal Agencies                             8.0706      5.268      1.532      0.126      -2.275      18.416\n",
       "Industry_Financial Analytics & Research               0.3402      9.196      0.037      0.971     -17.720      18.400\n",
       "Industry_Financial Transaction Processing           -17.5101     12.894     -1.358      0.175     -42.834       7.813\n",
       "Industry_Food & Beverage Manufacturing               -3.0947     11.579     -0.267      0.789     -25.836      19.647\n",
       "Industry_Gambling                                    -9.2525      6.524     -1.418      0.157     -22.065       3.560\n",
       "Industry_Gas Stations                               -24.3354     15.544     -1.566      0.118     -54.863       6.192\n",
       "Industry_Health Care Products Manufacturing          21.0157     22.123      0.950      0.343     -22.432      64.464\n",
       "Industry_Health Care Services & Hospitals             5.9408      2.916      2.037      0.042       0.213      11.668\n",
       "Industry_Health, Beauty, & Fitness                   -2.2275     17.436     -0.128      0.898     -36.470      32.015\n",
       "Industry_IT Services                                  1.2100      3.580      0.338      0.736      -5.822       8.242\n",
       "Industry_Industrial Manufacturing                   -13.8517     12.833     -1.079      0.281     -39.054      11.351\n",
       "Industry_Insurance Agencies & Brokerages             -3.9062      7.005     -0.558      0.577     -17.664       9.852\n",
       "Industry_Insurance Carriers                           5.5810      4.489      1.243      0.214      -3.235      14.397\n",
       "Industry_Internet                                     0.3625      4.513      0.080      0.936      -8.502       9.227\n",
       "Industry_Investment Banking & Asset Management       35.8709     12.086      2.968      0.003      12.134      59.608\n",
       "Industry_K-12 Education                              10.0671     14.781      0.681      0.496     -18.962      39.096\n",
       "Industry_Lending                                     -1.5471      9.860     -0.157      0.875     -20.912      17.818\n",
       "Industry_Logistics & Supply Chain                     1.4288     13.405      0.107      0.915     -24.897      27.755\n",
       "Industry_Metals Brokers                              -7.9036     15.608     -0.506      0.613     -38.557      22.750\n",
       "Industry_Mining                                      -3.5905     17.980     -0.200      0.842     -38.903      31.722\n",
       "Industry_Motion Picture Production & Distribution    46.0437     19.608      2.348      0.019       7.535      84.552\n",
       "Industry_Other Retail Stores                         39.9862     21.695      1.843      0.066      -2.621      82.593\n",
       "Industry_Real Estate                                 -2.3353      4.960     -0.471      0.638     -12.076       7.405\n",
       "Industry_Religious Organizations                     25.9002     13.715      1.888      0.059      -1.035      52.836\n",
       "Industry_Research & Development                      -3.1302      6.544     -0.478      0.633     -15.982       9.722\n",
       "Industry_Security Services                           14.3425      9.791      1.465      0.143      -4.886      33.571\n",
       "Industry_Social Assistance                          -11.0886     11.786     -0.941      0.347     -34.235      12.058\n",
       "Industry_Sporting Goods Stores                      -37.3097     17.862     -2.089      0.037     -72.389      -2.230\n",
       "Industry_Staffing & Outsourcing                      -5.3747     11.019     -0.488      0.626     -27.014      16.265\n",
       "Industry_Stock Exchanges                            -15.1212      7.891     -1.916      0.056     -30.619       0.377\n",
       "Industry_TV Broadcast & Cable Networks                0.0330     15.540      0.002      0.998     -30.486      30.552\n",
       "Industry_Telecommunications Manufacturing             4.1691     13.669      0.305      0.760     -22.676      31.014\n",
       "Industry_Telecommunications Services                  0.1287     11.268      0.011      0.991     -22.000      22.258\n",
       "Industry_Transportation Equipment Manufacturing     -19.4469     23.723     -0.820      0.413     -66.037      27.143\n",
       "Industry_Transportation Management                  -20.6995     14.025     -1.476      0.141     -48.244       6.845\n",
       "Industry_Travel Agencies                             -5.5190      5.255     -1.050      0.294     -15.840       4.802\n",
       "Industry_Trucking                                    22.8371     19.852      1.150      0.250     -16.151      61.825\n",
       "Industry_Video Games                                -30.1817     14.428     -2.092      0.037     -58.518      -1.845\n",
       "Industry_Wholesale                                   -2.2256     13.108     -0.170      0.865     -27.969      23.518\n",
       "Sector_-1                                             5.8383      7.935      0.736      0.462      -9.746      21.422\n",
       "Sector_Accounting & Legal                             2.5098     13.486      0.186      0.852     -23.976      28.995\n",
       "Sector_Aerospace & Defense                            5.5783      3.109      1.794      0.073      -0.528      11.685\n",
       "Sector_Agriculture & Forestry                        -0.8926     12.652     -0.071      0.944     -25.741      23.956\n",
       "Sector_Arts, Entertainment & Recreation              -9.2525      6.524     -1.418      0.157     -22.065       3.560\n",
       "Sector_Biotech & Pharmaceuticals                      6.4294      2.045      3.145      0.002       2.414      10.445\n",
       "Sector_Business Services                             -4.2357      4.213     -1.005      0.315     -12.509       4.038\n",
       "Sector_Construction, Repair & Maintenance           -15.5520     10.562     -1.472      0.141     -36.295       5.191\n",
       "Sector_Consumer Services                             -4.6864      9.426     -0.497      0.619     -23.199      13.826\n",
       "Sector_Education                                     -2.4602      6.838     -0.360      0.719     -15.889      10.968\n",
       "Sector_Finance                                       13.2008      4.519      2.921      0.004       4.327      22.075\n",
       "Sector_Government                                     8.0706      5.268      1.532      0.126      -2.275      18.416\n",
       "Sector_Health Care                                    5.9408      2.916      2.037      0.042       0.213      11.668\n",
       "Sector_Information Technology                        10.1474      2.785      3.644      0.000       4.678      15.617\n",
       "Sector_Insurance                                      1.6747      3.945      0.425      0.671      -6.072       9.422\n",
       "Sector_Manufacturing                                 -1.5546      6.909     -0.225      0.822     -15.124      12.014\n",
       "Sector_Media                                         15.8949      8.725      1.822      0.069      -1.240      33.030\n",
       "Sector_Mining & Metals                              -11.4941     10.725     -1.072      0.284     -32.558       9.570\n",
       "Sector_Non-Profit                                    14.8115      8.900      1.664      0.097      -2.667      32.290\n",
       "Sector_Oil, Gas, Energy & Utilities                  -4.1921      7.678     -0.546      0.585     -19.270      10.886\n",
       "Sector_Real Estate                                   -2.3353      4.960     -0.471      0.638     -12.076       7.405\n",
       "Sector_Retail                                         7.8149      7.178      1.089      0.277      -6.283      21.912\n",
       "Sector_Telecommunications                             4.2978      7.813      0.550      0.582     -11.046      19.641\n",
       "Sector_Transportation & Logistics                     3.5664      8.050      0.443      0.658     -12.244      19.377\n",
       "Sector_Travel & Tourism                              -5.5190      5.255     -1.050      0.294     -15.840       4.802\n",
       "Revenue_$1 to $2 billion (USD)                        2.9065      4.800      0.605      0.545      -6.521      12.334\n",
       "Revenue_$1 to $5 million (USD)                       -5.6696     10.966     -0.517      0.605     -27.206      15.866\n",
       "Revenue_$10 to $25 million (USD)                     -4.8466      5.228     -0.927      0.354     -15.114       5.421\n",
       "Revenue_$10+ billion (USD)                           10.4141      6.399      1.628      0.104      -2.152      22.981\n",
       "Revenue_$100 to $500 million (USD)                   -5.1303      4.064     -1.262      0.207     -13.112       2.851\n",
       "Revenue_$2 to $5 billion (USD)                        0.2080      6.283      0.033      0.974     -12.132      12.548\n",
       "Revenue_$25 to $50 million (USD)                     -5.2661      5.368     -0.981      0.327     -15.809       5.276\n",
       "Revenue_$5 to $10 billion (USD)                       6.6867      7.865      0.850      0.396      -8.759      22.133\n",
       "Revenue_$5 to $10 million (USD)                      31.8413      8.323      3.826      0.000      15.496      48.186\n",
       "Revenue_$50 to $100 million (USD)                     5.3703      4.974      1.080      0.281      -4.398      15.138\n",
       "Revenue_$500 million to $1 billion (USD)             -1.9413      5.298     -0.366      0.714     -12.346       8.463\n",
       "Revenue_-1                                           13.6196      8.629      1.578      0.115      -3.328      30.567\n",
       "Revenue_Less than $1 million (USD)                   -4.2630     15.212     -0.280      0.779     -34.139      25.613\n",
       "Revenue_Unknown / Non-Applicable                     -0.3283      3.081     -0.107      0.915      -6.379       5.722\n",
       "job_state_AL                                         -6.0058     10.467     -0.574      0.566     -26.563      14.551\n",
       "job_state_AZ                                        -14.0275      8.626     -1.626      0.104     -30.969       2.914\n",
       "job_state_CA                                         26.7197      3.156      8.467      0.000      20.522      32.918\n",
       "job_state_CO                                          7.8529      8.300      0.946      0.344      -8.448      24.153\n",
       "job_state_CT                                        -23.7326     11.366     -2.088      0.037     -46.056      -1.410\n",
       "job_state_DC                                         13.7357      7.936      1.731      0.084      -1.850      29.322\n",
       "job_state_DE                                          9.2463     13.872      0.667      0.505     -17.997      36.489\n",
       "job_state_FL                                        -15.8810      7.637     -2.080      0.038     -30.879      -0.883\n",
       "job_state_GA                                        -18.5367     10.118     -1.832      0.067     -38.407       1.334\n",
       "job_state_IA                                         -2.4859     12.448     -0.200      0.842     -26.932      21.960\n",
       "job_state_ID                                        -24.3798     18.301     -1.332      0.183     -60.322      11.562\n",
       "job_state_IL                                          9.0956      5.035      1.807      0.071      -0.793      18.984\n",
       "job_state_IN                                        -10.3063      8.818     -1.169      0.243     -27.624       7.012\n",
       "job_state_KS                                        -15.1212      7.891     -1.916      0.056     -30.619       0.377\n",
       "job_state_KY                                         19.8151     12.362      1.603      0.109      -4.463      44.093\n",
       "job_state_LA                                         -6.2195     13.080     -0.475      0.635     -31.908      19.469\n",
       "job_state_MA                                          2.8321      3.874      0.731      0.465      -4.776      10.440\n",
       "job_state_MD                                          7.8101      4.926      1.586      0.113      -1.864      17.484\n",
       "job_state_MI                                          7.4898     12.333      0.607      0.544     -16.732      31.711\n",
       "job_state_MN                                          8.3551     17.271      0.484      0.629     -25.563      42.274\n",
       "job_state_MO                                          9.8899      9.858      1.003      0.316      -9.470      29.250\n",
       "job_state_NC                                         -3.8930      6.753     -0.576      0.565     -17.155       9.370\n",
       "job_state_NE                                         -3.1512     13.459     -0.234      0.815     -29.584      23.281\n",
       "job_state_NJ                                          1.1983      6.825      0.176      0.861     -12.205      14.602\n",
       "job_state_NM                                        -30.4763     14.488     -2.104      0.036     -58.930      -2.023\n",
       "job_state_NY                                          5.8270      4.026      1.447      0.148      -2.080      13.734\n",
       "job_state_OH                                         -0.4478      8.177     -0.055      0.956     -16.507      15.612\n",
       "job_state_OR                                          2.3883     12.656      0.189      0.850     -22.468      27.244\n",
       "job_state_PA                                          9.5599      7.260      1.317      0.188      -4.698      23.817\n",
       "job_state_RI                                         39.4787     24.691      1.599      0.110      -9.012      87.969\n",
       "job_state_SC                                         30.7103     29.340      1.047      0.296     -26.912      88.332\n",
       "job_state_TN                                         -6.1085      9.284     -0.658      0.511     -24.342      12.125\n",
       "job_state_TX                                          0.5736      5.643      0.102      0.919     -10.510      11.657\n",
       "job_state_UT                                          3.2816     14.838      0.221      0.825     -25.859      32.423\n",
       "job_state_VA                                         -0.0401      5.010     -0.008      0.994      -9.880       9.800\n",
       "job_state_WA                                         12.7546      8.147      1.565      0.118      -3.246      28.755\n",
       "job_state_WI                                         -4.2002     10.117     -0.415      0.678     -24.069      15.669\n",
       "job_simp_analyst                                    -31.3778      3.362     -9.334      0.000     -37.980     -24.776\n",
       "job_simp_data engineer                                2.1623      3.208      0.674      0.501      -4.138       8.463\n",
       "job_simp_data scientist                               8.1718      2.543      3.213      0.001       3.177      13.167\n",
       "job_simp_director                                    68.6357      6.614     10.378      0.000      55.647      81.624\n",
       "job_simp_manager                                    -14.6575      5.585     -2.624      0.009     -25.626      -3.689\n",
       "job_simp_mle                                         21.7554      6.033      3.606      0.000       9.907      33.604\n",
       "job_simp_na                                         -11.0887      2.987     -3.712      0.000     -16.955      -5.223\n",
       "seniority_jr                                         12.2482     13.313      0.920      0.358     -13.898      38.394\n",
       "seniority_na                                          2.7464      5.155      0.533      0.594      -7.377      12.870\n",
       "seniority_senior                                     28.6066      5.334      5.363      0.000      18.131      39.082\n",
       "==============================================================================\n",
       "Omnibus:                       71.682   Durbin-Watson:                   2.047\n",
       "Prob(Omnibus):                  0.000   Jarque-Bera (JB):              299.948\n",
       "Skew:                           0.336   Prob(JB):                     7.36e-66\n",
       "Kurtosis:                       6.042   Cond. No.                     2.76e+19\n",
       "==============================================================================\n",
       "\n",
       "Notes:\n",
       "[1] Standard Errors assume that the covariance matrix of the errors is correctly specified.\n",
       "[2] The smallest eigenvalue is 1.68e-29. This might indicate that there are\n",
       "strong multicollinearity problems or that the design matrix is singular.\n",
       "\"\"\""
      ]
     },
     "execution_count": 14,
     "metadata": {},
     "output_type": "execute_result"
    }
   ],
   "source": [
    "X_sm = X = sm.add_constant(X)\n",
    "model = sm.OLS(y,X_sm)\n",
    "model.fit().summary()"
   ]
  },
  {
   "cell_type": "code",
   "execution_count": 15,
   "metadata": {},
   "outputs": [],
   "source": [
    "from sklearn.linear_model import LinearRegression, Lasso\n",
    "from sklearn.model_selection import cross_val_score"
   ]
  },
  {
   "cell_type": "code",
   "execution_count": 16,
   "metadata": {},
   "outputs": [
    {
     "data": {
      "text/html": [
       "<style>#sk-container-id-1 {color: black;background-color: white;}#sk-container-id-1 pre{padding: 0;}#sk-container-id-1 div.sk-toggleable {background-color: white;}#sk-container-id-1 label.sk-toggleable__label {cursor: pointer;display: block;width: 100%;margin-bottom: 0;padding: 0.3em;box-sizing: border-box;text-align: center;}#sk-container-id-1 label.sk-toggleable__label-arrow:before {content: \"▸\";float: left;margin-right: 0.25em;color: #696969;}#sk-container-id-1 label.sk-toggleable__label-arrow:hover:before {color: black;}#sk-container-id-1 div.sk-estimator:hover label.sk-toggleable__label-arrow:before {color: black;}#sk-container-id-1 div.sk-toggleable__content {max-height: 0;max-width: 0;overflow: hidden;text-align: left;background-color: #f0f8ff;}#sk-container-id-1 div.sk-toggleable__content pre {margin: 0.2em;color: black;border-radius: 0.25em;background-color: #f0f8ff;}#sk-container-id-1 input.sk-toggleable__control:checked~div.sk-toggleable__content {max-height: 200px;max-width: 100%;overflow: auto;}#sk-container-id-1 input.sk-toggleable__control:checked~label.sk-toggleable__label-arrow:before {content: \"▾\";}#sk-container-id-1 div.sk-estimator input.sk-toggleable__control:checked~label.sk-toggleable__label {background-color: #d4ebff;}#sk-container-id-1 div.sk-label input.sk-toggleable__control:checked~label.sk-toggleable__label {background-color: #d4ebff;}#sk-container-id-1 input.sk-hidden--visually {border: 0;clip: rect(1px 1px 1px 1px);clip: rect(1px, 1px, 1px, 1px);height: 1px;margin: -1px;overflow: hidden;padding: 0;position: absolute;width: 1px;}#sk-container-id-1 div.sk-estimator {font-family: monospace;background-color: #f0f8ff;border: 1px dotted black;border-radius: 0.25em;box-sizing: border-box;margin-bottom: 0.5em;}#sk-container-id-1 div.sk-estimator:hover {background-color: #d4ebff;}#sk-container-id-1 div.sk-parallel-item::after {content: \"\";width: 100%;border-bottom: 1px solid gray;flex-grow: 1;}#sk-container-id-1 div.sk-label:hover label.sk-toggleable__label {background-color: #d4ebff;}#sk-container-id-1 div.sk-serial::before {content: \"\";position: absolute;border-left: 1px solid gray;box-sizing: border-box;top: 0;bottom: 0;left: 50%;z-index: 0;}#sk-container-id-1 div.sk-serial {display: flex;flex-direction: column;align-items: center;background-color: white;padding-right: 0.2em;padding-left: 0.2em;position: relative;}#sk-container-id-1 div.sk-item {position: relative;z-index: 1;}#sk-container-id-1 div.sk-parallel {display: flex;align-items: stretch;justify-content: center;background-color: white;position: relative;}#sk-container-id-1 div.sk-item::before, #sk-container-id-1 div.sk-parallel-item::before {content: \"\";position: absolute;border-left: 1px solid gray;box-sizing: border-box;top: 0;bottom: 0;left: 50%;z-index: -1;}#sk-container-id-1 div.sk-parallel-item {display: flex;flex-direction: column;z-index: 1;position: relative;background-color: white;}#sk-container-id-1 div.sk-parallel-item:first-child::after {align-self: flex-end;width: 50%;}#sk-container-id-1 div.sk-parallel-item:last-child::after {align-self: flex-start;width: 50%;}#sk-container-id-1 div.sk-parallel-item:only-child::after {width: 0;}#sk-container-id-1 div.sk-dashed-wrapped {border: 1px dashed gray;margin: 0 0.4em 0.5em 0.4em;box-sizing: border-box;padding-bottom: 0.4em;background-color: white;}#sk-container-id-1 div.sk-label label {font-family: monospace;font-weight: bold;display: inline-block;line-height: 1.2em;}#sk-container-id-1 div.sk-label-container {text-align: center;}#sk-container-id-1 div.sk-container {/* jupyter's `normalize.less` sets `[hidden] { display: none; }` but bootstrap.min.css set `[hidden] { display: none !important; }` so we also need the `!important` here to be able to override the default hidden behavior on the sphinx rendered scikit-learn.org. See: https://github.com/scikit-learn/scikit-learn/issues/21755 */display: inline-block !important;position: relative;}#sk-container-id-1 div.sk-text-repr-fallback {display: none;}</style><div id=\"sk-container-id-1\" class=\"sk-top-container\"><div class=\"sk-text-repr-fallback\"><pre>LinearRegression()</pre><b>In a Jupyter environment, please rerun this cell to show the HTML representation or trust the notebook. <br />On GitHub, the HTML representation is unable to render, please try loading this page with nbviewer.org.</b></div><div class=\"sk-container\" hidden><div class=\"sk-item\"><div class=\"sk-estimator sk-toggleable\"><input class=\"sk-toggleable__control sk-hidden--visually\" id=\"sk-estimator-id-1\" type=\"checkbox\" checked><label for=\"sk-estimator-id-1\" class=\"sk-toggleable__label sk-toggleable__label-arrow\">LinearRegression</label><div class=\"sk-toggleable__content\"><pre>LinearRegression()</pre></div></div></div></div></div>"
      ],
      "text/plain": [
       "LinearRegression()"
      ]
     },
     "execution_count": 16,
     "metadata": {},
     "output_type": "execute_result"
    }
   ],
   "source": [
    "lm = LinearRegression()\n",
    "lm.fit(X_train, y_train)"
   ]
  },
  {
   "cell_type": "code",
   "execution_count": 17,
   "metadata": {},
   "outputs": [
    {
     "data": {
      "text/plain": [
       "-20.77023361366959"
      ]
     },
     "execution_count": 17,
     "metadata": {},
     "output_type": "execute_result"
    }
   ],
   "source": [
    "np.mean(cross_val_score(lm,X_train,y_train, scoring = 'neg_mean_absolute_error', cv= 3))"
   ]
  },
  {
   "cell_type": "code",
   "execution_count": 18,
   "metadata": {},
   "outputs": [
    {
     "data": {
      "text/plain": [
       "-19.26251583392883"
      ]
     },
     "execution_count": 18,
     "metadata": {},
     "output_type": "execute_result"
    }
   ],
   "source": [
    "# lasso regression \n",
    "lm_l = Lasso(alpha=.13)\n",
    "lm_l.fit(X_train,y_train)\n",
    "np.mean(cross_val_score(lm_l,X_train,y_train, scoring = 'neg_mean_absolute_error', cv= 3))"
   ]
  },
  {
   "cell_type": "code",
   "execution_count": 19,
   "metadata": {},
   "outputs": [
    {
     "name": "stdout",
     "output_type": "stream",
     "text": [
      "[-20.169580157847353, -19.816157214818706, -19.61023022749826, -19.49331282633987, -19.44058343550569, -19.41916690363423, -19.374039973268196, -19.338784883194993, -19.3066402055867, -19.290410000625982, -19.282529843873117, -19.269665019228018, -19.26251583392883, -19.265081368122253, -19.265377831991085, -19.263879673091136, -19.262612136033486, -19.2637515397364, -19.266254048313474, -19.269298595853954, -19.275715458142294, -19.281236120461077, -19.290781084773965, -19.306641622129963, -19.330316092465747, -19.357823176262816, -19.378356174660393, -19.39568936912049, -19.41274592294106, -19.428545065784405, -19.44573519905667, -19.46495856119631, -19.481810106966293, -19.500049552668475, -19.520710488836297, -19.54304487665161, -19.565374560489428, -19.589258865187272, -19.6142485398676, -19.641021082529758, -19.666281482171726, -19.692363204808434, -19.71880151205573, -19.746712330550654, -19.775467842849967, -19.804009255378357, -19.831931891056424, -19.856427573728055, -19.880522191187612, -19.904572098574437, -19.927451050888102, -19.949069123312544, -19.969148744379996, -19.989412633904163, -20.00959352946596, -20.031042829106443, -20.055893255989186, -20.081380842485647, -20.107371070769123, -20.133543430033395, -20.16117954429475, -20.188500635200068, -20.215288421139586, -20.24245302503258, -20.268829168723112, -20.292969504980064, -20.31650445695868, -20.339185380212655, -20.361994979694988, -20.385079672645876, -20.40972620516381, -20.43448761264121, -20.45924910680481, -20.484010594643735, -20.509039490029142, -20.534754916800527, -20.55868948350353, -20.582836275759487, -20.60723080267095, -20.631675798623274, -20.656195705200545, -20.680305104909298, -20.703494799528933, -20.726657263179682, -20.75020473928379, -20.77384740138795, -20.797490120432585, -20.821132936785474, -20.844457568930704, -20.86731593966484, -20.890062591606053, -20.91280905549841, -20.935556041528184, -20.95830319441448, -20.981149461272423, -21.004182397744323, -21.027189212696467, -21.0502391683611, -21.073315460506503]\n"
     ]
    }
   ],
   "source": [
    "alpha = []\n",
    "error = []\n",
    "\n",
    "for i in range(1,100):\n",
    "    alpha.append(i/100)\n",
    "    lml = Lasso(alpha=(i/100))\n",
    "    error.append(np.mean(cross_val_score(lml,X_train,y_train, scoring = 'neg_mean_absolute_error', cv= 3)))\n",
    "print(error)"
   ]
  },
  {
   "cell_type": "code",
   "execution_count": 20,
   "metadata": {},
   "outputs": [
    {
     "data": {
      "text/plain": [
       "[<matplotlib.lines.Line2D at 0x279517326d0>]"
      ]
     },
     "execution_count": 20,
     "metadata": {},
     "output_type": "execute_result"
    },
    {
     "data": {
      "image/png": "[encoded data removed]",
      "text/plain": [
       "<Figure size 640x480 with 1 Axes>"
      ]
     },
     "metadata": {},
     "output_type": "display_data"
    }
   ],
   "source": [
    "plt.plot(alpha,error)"
   ]
  },
  {
   "cell_type": "code",
   "execution_count": 21,
   "metadata": {},
   "outputs": [
    {
     "data": {
      "text/html": [
       "<div>\n",
       "<style scoped>\n",
       "    .dataframe tbody tr th:only-of-type {\n",
       "        vertical-align: middle;\n",
       "    }\n",
       "\n",
       "    .dataframe tbody tr th {\n",
       "        vertical-align: top;\n",
       "    }\n",
       "\n",
       "    .dataframe thead th {\n",
       "        text-align: right;\n",
       "    }\n",
       "</style>\n",
       "<table border=\"1\" class=\"dataframe\">\n",
       "  <thead>\n",
       "    <tr style=\"text-align: right;\">\n",
       "      <th></th>\n",
       "      <th>alpha</th>\n",
       "      <th>error</th>\n",
       "    </tr>\n",
       "  </thead>\n",
       "  <tbody>\n",
       "    <tr>\n",
       "      <th>12</th>\n",
       "      <td>0.13</td>\n",
       "      <td>-19.262516</td>\n",
       "    </tr>\n",
       "  </tbody>\n",
       "</table>\n",
       "</div>"
      ],
      "text/plain": [
       "    alpha      error\n",
       "12   0.13 -19.262516"
      ]
     },
     "execution_count": 21,
     "metadata": {},
     "output_type": "execute_result"
    }
   ],
   "source": [
    "err = tuple(zip(alpha,error))\n",
    "df_err = pd.DataFrame(err, columns = ['alpha','error'])\n",
    "df_err[df_err.error == max(df_err.error)]"
   ]
  },
  {
   "cell_type": "code",
   "execution_count": 22,
   "metadata": {},
   "outputs": [],
   "source": [
    "# random forest \n",
    "from sklearn.ensemble import RandomForestRegressor\n",
    "rf = RandomForestRegressor()"
   ]
  },
  {
   "cell_type": "code",
   "execution_count": 42,
   "metadata": {},
   "outputs": [
    {
     "data": {
      "text/html": [
       "<style>#sk-container-id-3 {color: black;background-color: white;}#sk-container-id-3 pre{padding: 0;}#sk-container-id-3 div.sk-toggleable {background-color: white;}#sk-container-id-3 label.sk-toggleable__label {cursor: pointer;display: block;width: 100%;margin-bottom: 0;padding: 0.3em;box-sizing: border-box;text-align: center;}#sk-container-id-3 label.sk-toggleable__label-arrow:before {content: \"▸\";float: left;margin-right: 0.25em;color: #696969;}#sk-container-id-3 label.sk-toggleable__label-arrow:hover:before {color: black;}#sk-container-id-3 div.sk-estimator:hover label.sk-toggleable__label-arrow:before {color: black;}#sk-container-id-3 div.sk-toggleable__content {max-height: 0;max-width: 0;overflow: hidden;text-align: left;background-color: #f0f8ff;}#sk-container-id-3 div.sk-toggleable__content pre {margin: 0.2em;color: black;border-radius: 0.25em;background-color: #f0f8ff;}#sk-container-id-3 input.sk-toggleable__control:checked~div.sk-toggleable__content {max-height: 200px;max-width: 100%;overflow: auto;}#sk-container-id-3 input.sk-toggleable__control:checked~label.sk-toggleable__label-arrow:before {content: \"▾\";}#sk-container-id-3 div.sk-estimator input.sk-toggleable__control:checked~label.sk-toggleable__label {background-color: #d4ebff;}#sk-container-id-3 div.sk-label input.sk-toggleable__control:checked~label.sk-toggleable__label {background-color: #d4ebff;}#sk-container-id-3 input.sk-hidden--visually {border: 0;clip: rect(1px 1px 1px 1px);clip: rect(1px, 1px, 1px, 1px);height: 1px;margin: -1px;overflow: hidden;padding: 0;position: absolute;width: 1px;}#sk-container-id-3 div.sk-estimator {font-family: monospace;background-color: #f0f8ff;border: 1px dotted black;border-radius: 0.25em;box-sizing: border-box;margin-bottom: 0.5em;}#sk-container-id-3 div.sk-estimator:hover {background-color: #d4ebff;}#sk-container-id-3 div.sk-parallel-item::after {content: \"\";width: 100%;border-bottom: 1px solid gray;flex-grow: 1;}#sk-container-id-3 div.sk-label:hover label.sk-toggleable__label {background-color: #d4ebff;}#sk-container-id-3 div.sk-serial::before {content: \"\";position: absolute;border-left: 1px solid gray;box-sizing: border-box;top: 0;bottom: 0;left: 50%;z-index: 0;}#sk-container-id-3 div.sk-serial {display: flex;flex-direction: column;align-items: center;background-color: white;padding-right: 0.2em;padding-left: 0.2em;position: relative;}#sk-container-id-3 div.sk-item {position: relative;z-index: 1;}#sk-container-id-3 div.sk-parallel {display: flex;align-items: stretch;justify-content: center;background-color: white;position: relative;}#sk-container-id-3 div.sk-item::before, #sk-container-id-3 div.sk-parallel-item::before {content: \"\";position: absolute;border-left: 1px solid gray;box-sizing: border-box;top: 0;bottom: 0;left: 50%;z-index: -1;}#sk-container-id-3 div.sk-parallel-item {display: flex;flex-direction: column;z-index: 1;position: relative;background-color: white;}#sk-container-id-3 div.sk-parallel-item:first-child::after {align-self: flex-end;width: 50%;}#sk-container-id-3 div.sk-parallel-item:last-child::after {align-self: flex-start;width: 50%;}#sk-container-id-3 div.sk-parallel-item:only-child::after {width: 0;}#sk-container-id-3 div.sk-dashed-wrapped {border: 1px dashed gray;margin: 0 0.4em 0.5em 0.4em;box-sizing: border-box;padding-bottom: 0.4em;background-color: white;}#sk-container-id-3 div.sk-label label {font-family: monospace;font-weight: bold;display: inline-block;line-height: 1.2em;}#sk-container-id-3 div.sk-label-container {text-align: center;}#sk-container-id-3 div.sk-container {/* jupyter's `normalize.less` sets `[hidden] { display: none; }` but bootstrap.min.css set `[hidden] { display: none !important; }` so we also need the `!important` here to be able to override the default hidden behavior on the sphinx rendered scikit-learn.org. See: https://github.com/scikit-learn/scikit-learn/issues/21755 */display: inline-block !important;position: relative;}#sk-container-id-3 div.sk-text-repr-fallback {display: none;}</style><div id=\"sk-container-id-3\" class=\"sk-top-container\"><div class=\"sk-text-repr-fallback\"><pre>RandomForestRegressor(criterion=&#x27;absolute_error&#x27;, n_estimators=190)</pre><b>In a Jupyter environment, please rerun this cell to show the HTML representation or trust the notebook. <br />On GitHub, the HTML representation is unable to render, please try loading this page with nbviewer.org.</b></div><div class=\"sk-container\" hidden><div class=\"sk-item\"><div class=\"sk-estimator sk-toggleable\"><input class=\"sk-toggleable__control sk-hidden--visually\" id=\"sk-estimator-id-3\" type=\"checkbox\" checked><label for=\"sk-estimator-id-3\" class=\"sk-toggleable__label sk-toggleable__label-arrow\">RandomForestRegressor</label><div class=\"sk-toggleable__content\"><pre>RandomForestRegressor(criterion=&#x27;absolute_error&#x27;, n_estimators=190)</pre></div></div></div></div></div>"
      ],
      "text/plain": [
       "RandomForestRegressor(criterion='absolute_error', n_estimators=190)"
      ]
     },
     "execution_count": 42,
     "metadata": {},
     "output_type": "execute_result"
    }
   ],
   "source": [
    "rf1 = RandomForestRegressor(criterion='absolute_error', n_estimators=190)\n",
    "rf1.fit(X_train, y_train)"
   ]
  },
  {
   "cell_type": "code",
   "execution_count": 23,
   "metadata": {},
   "outputs": [
    {
     "data": {
      "text/plain": [
       "-13.211775"
      ]
     },
     "execution_count": 23,
     "metadata": {},
     "output_type": "execute_result"
    }
   ],
   "source": [
    "np.mean(cross_val_score(rf,X_train,y_train,scoring = 'neg_mean_absolute_error', cv= 100))"
   ]
  },
  {
   "cell_type": "code",
   "execution_count": null,
   "metadata": {},
   "outputs": [],
   "source": [
    "from sklearn.model_selection import GridSearchCV\n",
    "parameters = {'n_estimators':range(10,300,10), 'criterion':('squared_error','absolute_error'), 'max_features':(1.0,'sqrt','log2')}\n",
    "\n",
    "gs = GridSearchCV(rf,parameters,scoring='neg_mean_absolute_error',cv=3)\n",
    "gs.fit(X_train,y_train)"
   ]
  },
  {
   "cell_type": "code",
   "execution_count": 65,
   "metadata": {},
   "outputs": [
    {
     "data": {
      "text/plain": [
       "-14.82292491438564"
      ]
     },
     "execution_count": 65,
     "metadata": {},
     "output_type": "execute_result"
    }
   ],
   "source": [
    "gs.best_score_"
   ]
  },
  {
   "cell_type": "code",
   "execution_count": 67,
   "metadata": {},
   "outputs": [
    {
     "data": {
      "text/html": [
       "<style>#sk-container-id-2 {color: black;background-color: white;}#sk-container-id-2 pre{padding: 0;}#sk-container-id-2 div.sk-toggleable {background-color: white;}#sk-container-id-2 label.sk-toggleable__label {cursor: pointer;display: block;width: 100%;margin-bottom: 0;padding: 0.3em;box-sizing: border-box;text-align: center;}#sk-container-id-2 label.sk-toggleable__label-arrow:before {content: \"▸\";float: left;margin-right: 0.25em;color: #696969;}#sk-container-id-2 label.sk-toggleable__label-arrow:hover:before {color: black;}#sk-container-id-2 div.sk-estimator:hover label.sk-toggleable__label-arrow:before {color: black;}#sk-container-id-2 div.sk-toggleable__content {max-height: 0;max-width: 0;overflow: hidden;text-align: left;background-color: #f0f8ff;}#sk-container-id-2 div.sk-toggleable__content pre {margin: 0.2em;color: black;border-radius: 0.25em;background-color: #f0f8ff;}#sk-container-id-2 input.sk-toggleable__control:checked~div.sk-toggleable__content {max-height: 200px;max-width: 100%;overflow: auto;}#sk-container-id-2 input.sk-toggleable__control:checked~label.sk-toggleable__label-arrow:before {content: \"▾\";}#sk-container-id-2 div.sk-estimator input.sk-toggleable__control:checked~label.sk-toggleable__label {background-color: #d4ebff;}#sk-container-id-2 div.sk-label input.sk-toggleable__control:checked~label.sk-toggleable__label {background-color: #d4ebff;}#sk-container-id-2 input.sk-hidden--visually {border: 0;clip: rect(1px 1px 1px 1px);clip: rect(1px, 1px, 1px, 1px);height: 1px;margin: -1px;overflow: hidden;padding: 0;position: absolute;width: 1px;}#sk-container-id-2 div.sk-estimator {font-family: monospace;background-color: #f0f8ff;border: 1px dotted black;border-radius: 0.25em;box-sizing: border-box;margin-bottom: 0.5em;}#sk-container-id-2 div.sk-estimator:hover {background-color: #d4ebff;}#sk-container-id-2 div.sk-parallel-item::after {content: \"\";width: 100%;border-bottom: 1px solid gray;flex-grow: 1;}#sk-container-id-2 div.sk-label:hover label.sk-toggleable__label {background-color: #d4ebff;}#sk-container-id-2 div.sk-serial::before {content: \"\";position: absolute;border-left: 1px solid gray;box-sizing: border-box;top: 0;bottom: 0;left: 50%;z-index: 0;}#sk-container-id-2 div.sk-serial {display: flex;flex-direction: column;align-items: center;background-color: white;padding-right: 0.2em;padding-left: 0.2em;position: relative;}#sk-container-id-2 div.sk-item {position: relative;z-index: 1;}#sk-container-id-2 div.sk-parallel {display: flex;align-items: stretch;justify-content: center;background-color: white;position: relative;}#sk-container-id-2 div.sk-item::before, #sk-container-id-2 div.sk-parallel-item::before {content: \"\";position: absolute;border-left: 1px solid gray;box-sizing: border-box;top: 0;bottom: 0;left: 50%;z-index: -1;}#sk-container-id-2 div.sk-parallel-item {display: flex;flex-direction: column;z-index: 1;position: relative;background-color: white;}#sk-container-id-2 div.sk-parallel-item:first-child::after {align-self: flex-end;width: 50%;}#sk-container-id-2 div.sk-parallel-item:last-child::after {align-self: flex-start;width: 50%;}#sk-container-id-2 div.sk-parallel-item:only-child::after {width: 0;}#sk-container-id-2 div.sk-dashed-wrapped {border: 1px dashed gray;margin: 0 0.4em 0.5em 0.4em;box-sizing: border-box;padding-bottom: 0.4em;background-color: white;}#sk-container-id-2 div.sk-label label {font-family: monospace;font-weight: bold;display: inline-block;line-height: 1.2em;}#sk-container-id-2 div.sk-label-container {text-align: center;}#sk-container-id-2 div.sk-container {/* jupyter's `normalize.less` sets `[hidden] { display: none; }` but bootstrap.min.css set `[hidden] { display: none !important; }` so we also need the `!important` here to be able to override the default hidden behavior on the sphinx rendered scikit-learn.org. See: https://github.com/scikit-learn/scikit-learn/issues/21755 */display: inline-block !important;position: relative;}#sk-container-id-2 div.sk-text-repr-fallback {display: none;}</style><div id=\"sk-container-id-2\" class=\"sk-top-container\"><div class=\"sk-text-repr-fallback\"><pre>RandomForestRegressor(criterion=&#x27;absolute_error&#x27;, n_estimators=190)</pre><b>In a Jupyter environment, please rerun this cell to show the HTML representation or trust the notebook. <br />On GitHub, the HTML representation is unable to render, please try loading this page with nbviewer.org.</b></div><div class=\"sk-container\" hidden><div class=\"sk-item\"><div class=\"sk-estimator sk-toggleable\"><input class=\"sk-toggleable__control sk-hidden--visually\" id=\"sk-estimator-id-4\" type=\"checkbox\" checked><label for=\"sk-estimator-id-4\" class=\"sk-toggleable__label sk-toggleable__label-arrow\">RandomForestRegressor</label><div class=\"sk-toggleable__content\"><pre>RandomForestRegressor(criterion=&#x27;absolute_error&#x27;, n_estimators=190)</pre></div></div></div></div></div>"
      ],
      "text/plain": [
       "RandomForestRegressor(criterion='absolute_error', n_estimators=190)"
      ]
     },
     "execution_count": 67,
     "metadata": {},
     "output_type": "execute_result"
    }
   ],
   "source": [
    "gs.best_estimator_"
   ]
  },
  {
   "cell_type": "code",
   "execution_count": 28,
   "metadata": {},
   "outputs": [],
   "source": [
    "tpred_lm = lm.predict(X_test)\n",
    "tpred_lml = lm_l.predict(X_test)\n",
    "#tpred_rf = gs.best_estimator_.predict(X_test)\n",
    "tpred_rf = rf1.predict(X_test)"
   ]
  },
  {
   "cell_type": "code",
   "execution_count": 29,
   "metadata": {},
   "outputs": [],
   "source": [
    "from sklearn.metrics import mean_absolute_error"
   ]
  },
  {
   "cell_type": "code",
   "execution_count": 33,
   "metadata": {},
   "outputs": [
    {
     "data": {
      "text/plain": [
       "566207.4079411166"
      ]
     },
     "execution_count": 33,
     "metadata": {},
     "output_type": "execute_result"
    }
   ],
   "source": [
    "mean_absolute_error(y_test,tpred_lm)"
   ]
  },
  {
   "cell_type": "code",
   "execution_count": 34,
   "metadata": {},
   "outputs": [
    {
     "data": {
      "text/plain": [
       "19.66540217867269"
      ]
     },
     "execution_count": 34,
     "metadata": {},
     "output_type": "execute_result"
    }
   ],
   "source": [
    "mean_absolute_error(y_test,tpred_lml)"
   ]
  },
  {
   "cell_type": "code",
   "execution_count": 31,
   "metadata": {},
   "outputs": [
    {
     "data": {
      "text/plain": [
       "11.101059696220418"
      ]
     },
     "execution_count": 31,
     "metadata": {},
     "output_type": "execute_result"
    }
   ],
   "source": [
    "mean_absolute_error(y_test,tpred_rf)"
   ]
  },
  {
   "cell_type": "code",
   "execution_count": 32,
   "metadata": {},
   "outputs": [
    {
     "data": {
      "text/plain": [
       "14.835525649990627"
      ]
     },
     "execution_count": 32,
     "metadata": {},
     "output_type": "execute_result"
    }
   ],
   "source": [
    "mean_absolute_error(y_test,(tpred_rf+tpred_lml)/2)"
   ]
  },
  {
   "cell_type": "code",
   "execution_count": 43,
   "metadata": {},
   "outputs": [],
   "source": [
    "import pickle\n",
    "pickl = {'model': rf1 }\n",
    "pickle.dump( pickl, open( 'model_file' + \".p\", \"wb\" ) )"
   ]
  },
  {
   "cell_type": "code",
   "execution_count": 44,
   "metadata": {},
   "outputs": [],
   "source": [
    "file_name = \"model_file.p\"\n",
    "with open(file_name, 'rb') as pickled:\n",
    "    data = pickle.load(pickled)\n",
    "    model = data['model']"
   ]
  },
  {
   "cell_type": "code",
   "execution_count": 56,
   "metadata": {},
   "outputs": [
    {
     "name": "stderr",
     "output_type": "stream",
     "text": [
      "c:\\Users\\admin\\AppData\\Local\\Programs\\Python\\Python39\\lib\\site-packages\\sklearn\\base.py:420: UserWarning: X does not have valid feature names, but RandomForestRegressor was fitted with feature names\n",
      "  warnings.warn(\n"
     ]
    },
    {
     "data": {
      "text/plain": [
       "144.80263157894737"
      ]
     },
     "execution_count": 56,
     "metadata": {},
     "output_type": "execute_result"
    }
   ],
   "source": [
    "model.predict(np.array(list(X_test.iloc[6,:])).reshape(1,-1))[0]"
   ]
  },
  {
   "cell_type": "code",
   "execution_count": null,
   "metadata": {},
   "outputs": [],
   "source": []
  }
 ],
 "metadata": {
  "kernelspec": {
   "display_name": "Python 3",
   "language": "python",
   "name": "python3"
  },
  "language_info": {
   "codemirror_mode": {
    "name": "ipython",
    "version": 3
   },
   "file_extension": ".py",
   "mimetype": "text/x-python",
   "name": "python",
   "nbconvert_exporter": "python",
   "pygments_lexer": "ipython3",
   "version": "3.9.0"
  },
  "orig_nbformat": 4
 },
 "nbformat": 4,
 "nbformat_minor": 2
}
